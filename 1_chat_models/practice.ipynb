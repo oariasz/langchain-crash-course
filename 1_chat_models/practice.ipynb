{
 "cells": [
  {
   "cell_type": "markdown",
   "metadata": {},
   "source": [
    "# Chat Models\n",
    "### Practice Session"
   ]
  },
  {
   "cell_type": "code",
   "execution_count": 1,
   "metadata": {},
   "outputs": [
    {
     "name": "stdout",
     "output_type": "stream",
     "text": [
      "/Users/oariasz/Library/Caches/pypoetry/virtualenvs/langchain-crash-course-yZsOSy-A-py3.11/bin/python\n",
      "Python 3.11.10\n"
     ]
    }
   ],
   "source": [
    "!which python\n",
    "!python --version\n"
   ]
  },
  {
   "cell_type": "code",
   "execution_count": 14,
   "metadata": {},
   "outputs": [
    {
     "data": {
      "text/plain": [
       "True"
      ]
     },
     "execution_count": 14,
     "metadata": {},
     "output_type": "execute_result"
    }
   ],
   "source": [
    "from dotenv import load_dotenv\n",
    "from langchain_openai import ChatOpenAI\n",
    "from pprint import pprint\n",
    "from mylib.openai_tokens import extract_tokens_and_cost, print_token_usage\n",
    "\n",
    "# Load environment variables from .env\n",
    "load_dotenv()\n"
   ]
  },
  {
   "cell_type": "code",
   "execution_count": 19,
   "metadata": {},
   "outputs": [],
   "source": [
    "# Create a ChatOpenAI model\n",
    "model = ChatOpenAI(model=\"gpt-3.5-turbo\")\n",
    "\n",
    "# Example Usage\n",
    "prompt = \"What is 81 divided by 9?\"\n",
    "result = model.invoke(prompt)\n"
   ]
  },
  {
   "cell_type": "code",
   "execution_count": 21,
   "metadata": {},
   "outputs": [
    {
     "name": "stdout",
     "output_type": "stream",
     "text": [
      "Prompt Tokens:               16\n",
      "Completion Tokens:           11\n",
      "Total Tokens:                27\n",
      "Total Cost ($):          0.0011\n",
      "TOTAL TOKEN USAGE ==============================\n",
      "Prompt Tokens:               48\n",
      "Completion Tokens:           23\n",
      "Total Tokens:                71\n",
      "Total Cost ($):          0.0028\n"
     ]
    }
   ],
   "source": [
    "print_token_usage(result)\n",
    "print_token_usage(result,saved_totals=True)"
   ]
  },
  {
   "cell_type": "code",
   "execution_count": 4,
   "metadata": {},
   "outputs": [
    {
     "name": "stdout",
     "output_type": "stream",
     "text": [
      "content='9' response_metadata={'token_usage': {'completion_tokens': 1, 'prompt_tokens': 16, 'total_tokens': 17, 'prompt_tokens_details': {'cached_tokens': 0, 'audio_tokens': 0}, 'completion_tokens_details': {'reasoning_tokens': 0, 'audio_tokens': 0, 'accepted_prediction_tokens': 0, 'rejected_prediction_tokens': 0}}, 'model_name': 'gpt-4', 'system_fingerprint': None, 'finish_reason': 'stop', 'logprobs': None} id='run-76ab7d25-bc36-470a-9953-1fdd39dffa29-0' usage_metadata={'input_tokens': 16, 'output_tokens': 1, 'total_tokens': 17}\n"
     ]
    }
   ],
   "source": [
    "print(result)"
   ]
  },
  {
   "cell_type": "code",
   "execution_count": 7,
   "metadata": {},
   "outputs": [
    {
     "name": "stdout",
     "output_type": "stream",
     "text": [
      "9\n"
     ]
    }
   ],
   "source": [
    "print(result.content)"
   ]
  },
  {
   "cell_type": "code",
   "execution_count": 8,
   "metadata": {},
   "outputs": [
    {
     "data": {
      "text/plain": [
       "dict"
      ]
     },
     "execution_count": 8,
     "metadata": {},
     "output_type": "execute_result"
    }
   ],
   "source": [
    "type(result.response_metadata)"
   ]
  },
  {
   "cell_type": "code",
   "execution_count": 12,
   "metadata": {},
   "outputs": [],
   "source": [
    "completion_tokens = result.response_metadata['token_usage']['completion_tokens']\n",
    "prompt_tokens = result.response_metadata['token_usage']['prompt_tokens']\n",
    "total_tokens = result.response_metadata['token_usage']['total_tokens']"
   ]
  },
  {
   "cell_type": "code",
   "execution_count": 13,
   "metadata": {},
   "outputs": [
    {
     "name": "stdout",
     "output_type": "stream",
     "text": [
      "Completion tokens:  1\n",
      "Prompt tokens:  16\n",
      "Total tokens:  17\n"
     ]
    }
   ],
   "source": [
    "print('Completion tokens: ', completion_tokens)\n",
    "print('Prompt tokens: ', prompt_tokens)\n",
    "print('Total tokens: ', total_tokens)"
   ]
  },
  {
   "cell_type": "code",
   "execution_count": 18,
   "metadata": {},
   "outputs": [
    {
     "name": "stdout",
     "output_type": "stream",
     "text": [
      "{'finish_reason': 'stop',\n",
      " 'logprobs': None,\n",
      " 'model_name': 'gpt-4',\n",
      " 'system_fingerprint': None,\n",
      " 'token_usage': {'completion_tokens': 1,\n",
      "                 'completion_tokens_details': {'accepted_prediction_tokens': 0,\n",
      "                                               'audio_tokens': 0,\n",
      "                                               'reasoning_tokens': 0,\n",
      "                                               'rejected_prediction_tokens': 0},\n",
      "                 'prompt_tokens': 16,\n",
      "                 'prompt_tokens_details': {'audio_tokens': 0,\n",
      "                                           'cached_tokens': 0},\n",
      "                 'total_tokens': 17}}\n"
     ]
    }
   ],
   "source": [
    "pprint(result.response_metadata)"
   ]
  },
  {
   "cell_type": "code",
   "execution_count": null,
   "metadata": {},
   "outputs": [],
   "source": []
  },
  {
   "cell_type": "markdown",
   "metadata": {},
   "source": [
    "### Real Time Conversation"
   ]
  },
  {
   "cell_type": "code",
   "execution_count": 22,
   "metadata": {},
   "outputs": [
    {
     "name": "stdout",
     "output_type": "stream",
     "text": [
      "AI: Hello! How can I assist you today?\n",
      "AI: I don't have feelings, but I'm here and ready to help you with anything you need. How can I assist you today?\n",
      "AI: We have used 4 tokens so far. Let me know if you have any more questions or need assistance with anything else!\n",
      "AI: If you have any more questions or need assistance in the future, feel free to ask. Have a great day!\n",
      "---- Message History ----\n",
      "[SystemMessage(content='You are a helpful AI assistant.'), HumanMessage(content='Hello!'), AIMessage(content='Hello! How can I assist you today?'), HumanMessage(content='How are you feeling today?'), AIMessage(content=\"I don't have feelings, but I'm here and ready to help you with anything you need. How can I assist you today?\"), HumanMessage(content='How many tokens have we used so far?'), AIMessage(content='We have used 4 tokens so far. Let me know if you have any more questions or need assistance with anything else!'), HumanMessage(content=''), AIMessage(content='If you have any more questions or need assistance in the future, feel free to ask. Have a great day!')]\n"
     ]
    }
   ],
   "source": [
    "from dotenv import load_dotenv\n",
    "from langchain_openai import ChatOpenAI\n",
    "from langchain.schema import AIMessage, HumanMessage, SystemMessage\n",
    "\n",
    "# Load environment variables from .env\n",
    "load_dotenv()\n",
    "\n",
    "# Create a ChatOpenAI model\n",
    "model = ChatOpenAI(model=\"gpt-3.5-turbo\")\n",
    "\n",
    "\n",
    "chat_history = []  # Use a list to store messages\n",
    "\n",
    "# Set an initial system message (optional)\n",
    "system_message = SystemMessage(content=\"You are a helpful AI assistant.\")\n",
    "chat_history.append(system_message)  # Add system message to chat history\n",
    "\n",
    "# Chat loop\n",
    "while True:\n",
    "    query = input(\"You: \")\n",
    "    if query.lower() == \"exit\":\n",
    "        break\n",
    "    chat_history.append(HumanMessage(content=query))  # Add user message\n",
    "\n",
    "    # Get AI response using history\n",
    "    result = model.invoke(chat_history)\n",
    "    response = result.content\n",
    "    chat_history.append(AIMessage(content=response))  # Add AI message\n",
    "\n",
    "    print(f\"AI: {response}\")\n",
    "\n",
    "\n",
    "print(\"---- Message History ----\")\n",
    "print(chat_history)\n"
   ]
  },
  {
   "cell_type": "code",
   "execution_count": null,
   "metadata": {},
   "outputs": [],
   "source": []
  }
 ],
 "metadata": {
  "kernelspec": {
   "display_name": "langchain-crash-course-yZsOSy-A-py3.11",
   "language": "python",
   "name": "python3"
  },
  "language_info": {
   "codemirror_mode": {
    "name": "ipython",
    "version": 3
   },
   "file_extension": ".py",
   "mimetype": "text/x-python",
   "name": "python",
   "nbconvert_exporter": "python",
   "pygments_lexer": "ipython3",
   "version": "3.11.10"
  }
 },
 "nbformat": 4,
 "nbformat_minor": 2
}
